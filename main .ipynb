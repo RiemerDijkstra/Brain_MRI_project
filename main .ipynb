{
  "cells": [
    {
      "cell_type": "markdown",
      "source": [
        "### Drive Mount"
      ],
      "metadata": {
        "id": "m2J-gus_il5S"
      },
      "id": "m2J-gus_il5S"
    },
    {
      "cell_type": "code",
      "source": [
        "from google.colab import drive\n",
        "\n",
        "drive.mount('/content/gdrive')"
      ],
      "metadata": {
        "id": "4hF6UdawZIT9"
      },
      "id": "4hF6UdawZIT9",
      "execution_count": null,
      "outputs": []
    },
    {
      "cell_type": "code",
      "source": [
        "cd /content/gdrive/MyDrive/GradCAM"
      ],
      "metadata": {
        "id": "DQbyC9jCZNnz"
      },
      "id": "DQbyC9jCZNnz",
      "execution_count": null,
      "outputs": []
    },
    {
      "cell_type": "code",
      "source": [
        "!pip install ttach"
      ],
      "metadata": {
        "id": "G29gIxVVZT7m"
      },
      "id": "G29gIxVVZT7m",
      "execution_count": null,
      "outputs": []
    },
    {
      "cell_type": "markdown",
      "source": [
        "### Dependencies"
      ],
      "metadata": {
        "id": "C-SnQbSJipXn"
      },
      "id": "C-SnQbSJipXn"
    },
    {
      "cell_type": "code",
      "execution_count": null,
      "id": "d9a763ea-9272-4d12-a3f2-7abb96417413",
      "metadata": {
        "id": "d9a763ea-9272-4d12-a3f2-7abb96417413"
      },
      "outputs": [],
      "source": [
        "import argparse\n",
        "import cv2\n",
        "import numpy as np\n",
        "import glob\n",
        "import torch\n",
        "from torch import nn\n",
        "from torchvision import models\n",
        "from pytorch_grad_cam import GuidedBackpropReLUModel\n",
        "from pytorch_grad_cam.utils.image import show_cam_on_image, \\\n",
        "    deprocess_image, \\\n",
        "    preprocess_image\n",
        "from pytorch_grad_cam.utils.model_targets import ClassifierOutputTarget\n",
        "from pytorch_grad_cam import GradCAM, \\\n",
        "    HiResCAM, \\\n",
        "    ScoreCAM, \\\n",
        "    GradCAMPlusPlus, \\\n",
        "    AblationCAM, \\\n",
        "    XGradCAM, \\\n",
        "    EigenCAM, \\\n",
        "    EigenGradCAM, \\\n",
        "    LayerCAM, \\\n",
        "    FullGrad, \\\n",
        "    GradCAMElementWise"
      ]
    },
    {
      "cell_type": "code",
      "source": [
        "device = torch.device('cuda' if torch.cuda.is_available() else 'cpu')\n",
        "print(device)"
      ],
      "metadata": {
        "id": "IHsyk69GZs7s"
      },
      "id": "IHsyk69GZs7s",
      "execution_count": null,
      "outputs": []
    },
    {
      "cell_type": "markdown",
      "source": [
        "### Load Model"
      ],
      "metadata": {
        "id": "9xjrxw_uir9o"
      },
      "id": "9xjrxw_uir9o"
    },
    {
      "cell_type": "code",
      "execution_count": null,
      "id": "8f28fdd7-4cc4-47d2-85c7-a68498f49f32",
      "metadata": {
        "id": "8f28fdd7-4cc4-47d2-85c7-a68498f49f32"
      },
      "outputs": [],
      "source": [
        "# VGG-16\n",
        "model = models.vgg16()\n",
        "model.classifier[6] = nn.Linear(4096, 4)\n",
        "model.load_state_dict(torch.load('models/VGG16.pt'))\n",
        "target_layers = [model.features[-1]]\n",
        "\n",
        "\n",
        "#ResNet50\n",
        "# model = models.resnet50()\n",
        "# model.fc = nn.Linear(2048, 4)\n",
        "# model.load_state_dict(torch.load('models/ResNet50.pt'))\n",
        "# target_layers = [model.layer4]\n",
        "\n",
        "\n",
        "model = model.to(device)\n",
        "model.eval()"
      ]
    },
    {
      "cell_type": "markdown",
      "source": [
        "### Load Images"
      ],
      "metadata": {
        "id": "6wFr4Hk-ivd_"
      },
      "id": "6wFr4Hk-ivd_"
    },
    {
      "cell_type": "code",
      "source": [
        "images = [cv2.imread(file) for file in glob.glob('images/brain_mri/Testing/pituitary_tumor/*.jpg')]"
      ],
      "metadata": {
        "id": "67J2f430cdnz"
      },
      "id": "67J2f430cdnz",
      "execution_count": null,
      "outputs": []
    },
    {
      "cell_type": "markdown",
      "source": [
        "### Create Heatmaps"
      ],
      "metadata": {
        "id": "4ljc27kviyCg"
      },
      "id": "4ljc27kviyCg"
    },
    {
      "cell_type": "code",
      "execution_count": null,
      "id": "b122e60d-60d5-4088-b515-0be07637cd6c",
      "metadata": {
        "id": "b122e60d-60d5-4088-b515-0be07637cd6c"
      },
      "outputs": [],
      "source": [
        "targets = None\n",
        "\n",
        "i = 0\n",
        "\n",
        "for img in images:\n",
        "\n",
        "  # rgb_img = cv2.imread(f'images/tests/{i}.jpg', 1)[:, :, ::-1]\n",
        "  rgb_img = img[:, :, ::-1]\n",
        "  rgb_img = np.float32(rgb_img) / 255\n",
        "  input_tensor = preprocess_image(rgb_img,\n",
        "                                  mean=[0.485, 0.456, 0.406],\n",
        "                                  std=[0.229, 0.224, 0.225])\n",
        "\n",
        "  input_tensor = input_tensor.to(device)\n",
        "  print(i)\n",
        "\n",
        "  cam_algorithm = GradCAM\n",
        "  with cam_algorithm(model=model,\n",
        "                    target_layers=target_layers,\n",
        "                    use_cuda=True) as cam:\n",
        "\n",
        "      cam.batch_size = 32\n",
        "      grayscale_cam = cam(input_tensor=input_tensor,\n",
        "                          targets=targets,\n",
        "                          aug_smooth=False,\n",
        "                          eigen_smooth=False)\n",
        "\n",
        "      # Here grayscale_cam has only one image in the batch\n",
        "      grayscale_cam = grayscale_cam[0, :]\n",
        "\n",
        "      cam_image = show_cam_on_image(rgb_img, grayscale_cam, use_rgb=True)\n",
        "\n",
        "      # cam_image is RGB encoded whereas \"cv2.imwrite\" requires BGR encoding.\n",
        "      cam_image = cv2.cvtColor(cam_image, cv2.COLOR_RGB2BGR)\n",
        "\n",
        "  gb_model = GuidedBackpropReLUModel(model=model, use_cuda=True)\n",
        "  gb = gb_model(input_tensor, target_category=None)\n",
        "\n",
        "  cam_mask = cv2.merge([grayscale_cam, grayscale_cam, grayscale_cam])\n",
        "  cam_gb = deprocess_image(cam_mask * gb)\n",
        "  gb = deprocess_image(gb)\n",
        "\n",
        "  # write heatmap to output folder\n",
        "  cv2.imwrite(f'heatmaps/ResNet-50/pituitary/{i}_original.jpg', img)\n",
        "  cv2.imwrite(f'heatmaps/ResNet-50/pituitary/{i}_Grad-CAM.jpg', cam_image)\n",
        "  i += 1"
      ]
    }
  ],
  "metadata": {
    "kernelspec": {
      "display_name": "Python 3 (ipykernel)",
      "language": "python",
      "name": "python3"
    },
    "language_info": {
      "codemirror_mode": {
        "name": "ipython",
        "version": 3
      },
      "file_extension": ".py",
      "mimetype": "text/x-python",
      "name": "python",
      "nbconvert_exporter": "python",
      "pygments_lexer": "ipython3",
      "version": "3.9.12"
    },
    "colab": {
      "provenance": []
    },
    "accelerator": "GPU",
    "gpuClass": "standard"
  },
  "nbformat": 4,
  "nbformat_minor": 5
}